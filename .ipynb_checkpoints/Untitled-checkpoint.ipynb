{
 "cells": [
  {
   "cell_type": "code",
   "execution_count": 1,
   "metadata": {},
   "outputs": [
    {
     "data": {
      "text/plain": [
       "array([ 42.], dtype=float32)"
      ]
     },
     "execution_count": 1,
     "metadata": {},
     "output_type": "execute_result"
    }
   ],
   "source": [
    "import numpy as np\n",
    "import chainer\n",
    "from chainer import Variable, optimizers, serializers, utils\n",
    "from chainer import Link, Chain, ChainList\n",
    "import chainer.functions as F\n",
    "import chainer.links as L\n",
    "import chainer.computational_graph as c\n",
    "from chainer.functions.loss.mean_squared_error import mean_squared_error\n",
    "\n",
    "\n",
    "\n",
    "x1 = Variable(np.array([1], dtype=np.float32))\n",
    "x2 = Variable(np.array([2], dtype=np.float32))\n",
    "x3 = Variable(np.array([3], dtype=np.float32))\n",
    "\n",
    "\"\"\"\n",
    "x1 = Variable(np.array([1]).astype(np.float32))\n",
    "x2 = Variable(np.array([2]).astype(np.float32))\n",
    "x3 = Variable(np.array([3]).astype(np.float32))\n",
    "\"\"\"\n",
    "\n",
    "z = (x1-2*x2-1)**2+(x2*x3-1)**2+1\n",
    "z.data\n"
   ]
  },
  {
   "cell_type": "code",
   "execution_count": 2,
   "metadata": {},
   "outputs": [
    {
     "data": {
      "text/plain": [
       "'\\n    def fwd(self, x, y)\\n        return F.sigmoid(self, l1(x))\\n'"
      ]
     },
     "execution_count": 2,
     "metadata": {},
     "output_type": "execute_result"
    }
   ],
   "source": [
    "class MyChain(Chain):\n",
    "    def __init__(self):\n",
    "        super(MyChain, self).__init__(\n",
    "            l1=L.Linear(4, 3),\n",
    "            l2=L.Linear(3, 2)\n",
    "        )\n",
    "\n",
    "    def __call__(self, x, y):\n",
    "        fv = self.fwd(x, y)\n",
    "        loss = F.mean_squared_error(fv, y)\n",
    "        return loss\n",
    "\"\"\"\n",
    "    def fwd(self, x, y)\n",
    "        return F.sigmoid(self, l1(x))\n",
    "\"\"\"\n"
   ]
  }
 ],
 "metadata": {
  "kernelspec": {
   "display_name": "Python 3",
   "language": "python",
   "name": "python3"
  },
  "language_info": {
   "codemirror_mode": {
    "name": "ipython",
    "version": 3
   },
   "file_extension": ".py",
   "mimetype": "text/x-python",
   "name": "python",
   "nbconvert_exporter": "python",
   "pygments_lexer": "ipython3",
   "version": "3.6.0"
  }
 },
 "nbformat": 4,
 "nbformat_minor": 2
}
