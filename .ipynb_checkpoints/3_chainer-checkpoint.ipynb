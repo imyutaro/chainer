{
 "cells": [
  {
   "cell_type": "markdown",
   "metadata": {},
   "source": [
    "# 第3章 Chainerの使い方"
   ]
  },
  {
   "cell_type": "markdown",
   "metadata": {},
   "source": [
    "---"
   ]
  },
  {
   "cell_type": "markdown",
   "metadata": {},
   "source": [
    "# 3.2 基本オブジェクト"
   ]
  },
  {
   "cell_type": "markdown",
   "metadata": {},
   "source": [
    "## 3.2.1 Variable\n",
    "\n",
    "- 変数に入る実際のデータは配列\n",
    "- Variableの変数の演算結果もVariableの変数になる\n",
    "- dataという属性で参照できる"
   ]
  },
  {
   "cell_type": "code",
   "execution_count": 62,
   "metadata": {},
   "outputs": [
    {
     "data": {
      "text/plain": [
       "array([ 42.], dtype=float32)"
      ]
     },
     "execution_count": 62,
     "metadata": {},
     "output_type": "execute_result"
    }
   ],
   "source": [
    "import numpy as np\n",
    "import chainer\n",
    "from chainer import Variable, optimizers, serializers, utils\n",
    "from chainer import Link, Chain, ChainList\n",
    "import chainer.functions as F\n",
    "import chainer.links as L\n",
    "import chainer.computational_graph as c\n",
    "from chainer.functions.loss.mean_squared_error import mean_squared_error\n",
    "\n",
    "\n",
    "x1 = Variable(np.array([1], dtype=np.float32))\n",
    "x2 = Variable(np.array([2], dtype=np.float32))\n",
    "x3 = Variable(np.array([3], dtype=np.float32))\n",
    "\n",
    "z = (x1-2*x2-1)**2+(x2*x3-1)**2+1\n",
    "z.data"
   ]
  },
  {
   "cell_type": "markdown",
   "metadata": {},
   "source": [
    "<br>\n",
    "- 順方向にいったん計算したことになるので、微分値を得るためには、逆向きの計算を行う"
   ]
  },
  {
   "cell_type": "code",
   "execution_count": 63,
   "metadata": {},
   "outputs": [
    {
     "data": {
      "text/plain": [
       "array([-8.], dtype=float32)"
      ]
     },
     "execution_count": 63,
     "metadata": {},
     "output_type": "execute_result"
    }
   ],
   "source": [
    "z.backward()\n",
    "x1.grad"
   ]
  },
  {
   "cell_type": "code",
   "execution_count": 64,
   "metadata": {},
   "outputs": [
    {
     "data": {
      "text/plain": [
       "array([ 46.], dtype=float32)"
      ]
     },
     "execution_count": 64,
     "metadata": {},
     "output_type": "execute_result"
    }
   ],
   "source": [
    "x2.grad"
   ]
  },
  {
   "cell_type": "code",
   "execution_count": 65,
   "metadata": {},
   "outputs": [
    {
     "data": {
      "text/plain": [
       "array([ 20.], dtype=float32)"
      ]
     },
     "execution_count": 65,
     "metadata": {},
     "output_type": "execute_result"
    }
   ],
   "source": [
    "x3.grad"
   ]
  },
  {
   "cell_type": "markdown",
   "metadata": {},
   "source": [
    "#### 微分の式\n",
    "$$\n",
    "\\frac{\\partial z}{\\partial x_1}=2(x_1-2x_2-1)\\\\\n",
    "\\frac{\\partial z}{\\partial x_2}=-4(x_1-2x_2-1)+2x_3(x_2x_3-1)\\\\\n",
    "\\frac{\\partial z}{\\partial x_3}=2x_3(x_2x_3-1)\\\\\n",
    "$$\n",
    "<div style=\"text-align: center;\">\n",
    "$(x_1,x_2,x_3)=(1,2,3)$を代入すれば<br>　\n",
    "</div>\n",
    "$$\n",
    "\\frac{\\partial z}{\\partial x_1}=2\\times(1-2\\times2-1)=-8\\\\\n",
    "\\frac{\\partial z}{\\partial x_2}=-4\\times(1-2\\times2-1)+2\\times3(2\\times3-1)=46\\\\\n",
    "\\frac{\\partial z}{\\partial x_3}=2\\times3\\times(2\\times3-1)=20\\\\\n",
    "$$"
   ]
  },
  {
   "cell_type": "markdown",
   "metadata": {},
   "source": [
    "## 3.2.2 Function"
   ]
  },
  {
   "cell_type": "code",
   "execution_count": 66,
   "metadata": {
    "scrolled": true
   },
   "outputs": [
    {
     "data": {
      "text/plain": [
       "array([-0.84147096], dtype=float32)"
      ]
     },
     "execution_count": 66,
     "metadata": {},
     "output_type": "execute_result"
    }
   ],
   "source": [
    "x = Variable(np.array([-1], dtype=np.float32))\n",
    "F.sin(x).data #sin関数"
   ]
  },
  {
   "cell_type": "code",
   "execution_count": 67,
   "metadata": {},
   "outputs": [
    {
     "data": {
      "text/plain": [
       "array([ 0.2689414], dtype=float32)"
      ]
     },
     "execution_count": 67,
     "metadata": {},
     "output_type": "execute_result"
    }
   ],
   "source": [
    "F.sigmoid(x).data #sigmoid関数"
   ]
  },
  {
   "cell_type": "markdown",
   "metadata": {},
   "source": [
    "<br>\n",
    "- $(\\,\\cos (x)\\,)’ = -\\sin(x)$ を確かめてみる"
   ]
  },
  {
   "cell_type": "code",
   "execution_count": 68,
   "metadata": {},
   "outputs": [
    {
     "data": {
      "text/plain": [
       "array([ 0.87758255], dtype=float32)"
      ]
     },
     "execution_count": 68,
     "metadata": {},
     "output_type": "execute_result"
    }
   ],
   "source": [
    "x = Variable(np.array([-0.5], dtype=np.float32))\n",
    "z = F.cos(x)\n",
    "z.data"
   ]
  },
  {
   "cell_type": "code",
   "execution_count": 69,
   "metadata": {},
   "outputs": [
    {
     "data": {
      "text/plain": [
       "array([ 0.47942555], dtype=float32)"
      ]
     },
     "execution_count": 69,
     "metadata": {},
     "output_type": "execute_result"
    }
   ],
   "source": [
    "z.backward()\n",
    "x.grad"
   ]
  },
  {
   "cell_type": "code",
   "execution_count": 70,
   "metadata": {},
   "outputs": [
    {
     "data": {
      "text/plain": [
       "array([ 0.47942555], dtype=float32)"
      ]
     },
     "execution_count": 70,
     "metadata": {},
     "output_type": "execute_result"
    }
   ],
   "source": [
    "(-1)*F.sin(x).data # (cos(x))' = -sin(x)"
   ]
  },
  {
   "cell_type": "markdown",
   "metadata": {},
   "source": [
    "<br>\n",
    "- シグモイド関数についても$(\\;f'(x)=(1-f(x))\\;f(x)\\;)$を確かめてみる"
   ]
  },
  {
   "cell_type": "code",
   "execution_count": 71,
   "metadata": {},
   "outputs": [
    {
     "data": {
      "text/plain": [
       "array([ 0.37754068], dtype=float32)"
      ]
     },
     "execution_count": 71,
     "metadata": {},
     "output_type": "execute_result"
    }
   ],
   "source": [
    "x = Variable(np.array([-0.5], dtype=np.float32))\n",
    "z = F.sigmoid(x)\n",
    "z.data"
   ]
  },
  {
   "cell_type": "code",
   "execution_count": 72,
   "metadata": {},
   "outputs": [
    {
     "data": {
      "text/plain": [
       "array([ 0.23500371], dtype=float32)"
      ]
     },
     "execution_count": 72,
     "metadata": {},
     "output_type": "execute_result"
    }
   ],
   "source": [
    "z.backward()\n",
    "x.grad"
   ]
  },
  {
   "cell_type": "code",
   "execution_count": 73,
   "metadata": {},
   "outputs": [
    {
     "data": {
      "text/plain": [
       "array([ 0.23500371], dtype=float32)"
      ]
     },
     "execution_count": 73,
     "metadata": {},
     "output_type": "execute_result"
    }
   ],
   "source": [
    "((1-F.sigmoid(x))*F.sigmoid(x)).data # f'(x)=(1-f(x))*f(x)"
   ]
  },
  {
   "cell_type": "markdown",
   "metadata": {},
   "source": [
    "<br>\n",
    "- 変数が多次元である場合は関数の傾きの次元をあらかじめ教えておく必要がある"
   ]
  },
  {
   "cell_type": "code",
   "execution_count": 74,
   "metadata": {},
   "outputs": [
    {
     "data": {
      "text/plain": [
       "array([ 0.54030228,  1.        ,  0.54030228], dtype=float32)"
      ]
     },
     "execution_count": 74,
     "metadata": {},
     "output_type": "execute_result"
    }
   ],
   "source": [
    "x = Variable(np.array([-1, 0, 1], dtype=np.float32))\n",
    "z = F.sin(x)\n",
    "z.grad = np.ones(3, dtype=np.float32)\n",
    "z.backward()\n",
    "x.grad"
   ]
  },
  {
   "cell_type": "markdown",
   "metadata": {},
   "source": [
    "<br>\n",
    "## 3.2.3 links"
   ]
  },
  {
   "cell_type": "code",
   "execution_count": 75,
   "metadata": {
    "collapsed": true
   },
   "outputs": [],
   "source": [
    "h = L.Linear(3,4)"
   ]
  },
  {
   "cell_type": "markdown",
   "metadata": {},
   "source": [
    "- パラメータはWとb\n",
    "- 最初にWには適当な値がbには0が入っている"
   ]
  },
  {
   "cell_type": "code",
   "execution_count": 76,
   "metadata": {},
   "outputs": [
    {
     "data": {
      "text/plain": [
       "array([[-0.51988679, -0.8054769 ,  0.55033976],\n",
       "       [ 1.07935274, -0.11930526,  0.39620265],\n",
       "       [ 0.95457995,  0.02897514, -0.27164912],\n",
       "       [ 0.90051645,  0.24939117, -1.59304452]], dtype=float32)"
      ]
     },
     "execution_count": 76,
     "metadata": {},
     "output_type": "execute_result"
    }
   ],
   "source": [
    "h.W.data"
   ]
  },
  {
   "cell_type": "code",
   "execution_count": 77,
   "metadata": {},
   "outputs": [
    {
     "data": {
      "text/plain": [
       "array([ 0.,  0.,  0.,  0.], dtype=float32)"
      ]
     },
     "execution_count": 77,
     "metadata": {},
     "output_type": "execute_result"
    }
   ],
   "source": [
    "h.b.data"
   ]
  },
  {
   "cell_type": "markdown",
   "metadata": {},
   "source": [
    "<br>\n",
    "- 入力はバッチ（データの集合）\n",
    "- 下の例は2つの3次元のベクトルを作って$\\;h\\;$に与えている"
   ]
  },
  {
   "cell_type": "code",
   "execution_count": 78,
   "metadata": {},
   "outputs": [
    {
     "data": {
      "text/plain": [
       "array([[ 0.,  1.,  2.],\n",
       "       [ 3.,  4.,  5.]], dtype=float32)"
      ]
     },
     "execution_count": 78,
     "metadata": {},
     "output_type": "execute_result"
    }
   ],
   "source": [
    "x = Variable(np.array(range(6)).astype(np.float32).reshape(2,3))\n",
    "x.data"
   ]
  },
  {
   "cell_type": "code",
   "execution_count": 79,
   "metadata": {},
   "outputs": [
    {
     "data": {
      "text/plain": [
       "array([[ 0.29520261,  0.67310005, -0.51432312, -2.93669796],\n",
       "       [-2.02986932,  4.74185038,  1.62139487, -4.26610851]], dtype=float32)"
      ]
     },
     "execution_count": 79,
     "metadata": {},
     "output_type": "execute_result"
    }
   ],
   "source": [
    "y = h(x)\n",
    "y.data"
   ]
  },
  {
   "cell_type": "markdown",
   "metadata": {},
   "source": [
    "正しく計算できているのかの確認"
   ]
  },
  {
   "cell_type": "code",
   "execution_count": 80,
   "metadata": {},
   "outputs": [
    {
     "data": {
      "text/plain": [
       "array([[ 0.29520261,  0.67310005, -0.51432312, -2.93669796],\n",
       "       [-2.02986932,  4.74185038,  1.62139487, -4.26610851]], dtype=float32)"
      ]
     },
     "execution_count": 80,
     "metadata": {},
     "output_type": "execute_result"
    }
   ],
   "source": [
    "w = h.W.data\n",
    "x0 = x.data\n",
    "x0.dot(w.T) + h.b.data"
   ]
  },
  {
   "cell_type": "markdown",
   "metadata": {},
   "source": [
    "---"
   ]
  },
  {
   "cell_type": "markdown",
   "metadata": {},
   "source": [
    "# 3.3 Chainクラス"
   ]
  },
  {
   "cell_type": "markdown",
   "metadata": {
    "collapsed": true
   },
   "source": [
    "```python\n",
    "class MyChain(Chain):\n",
    "    def __init__(self):\n",
    "        super(MyChain, self).__init__(\n",
    "            l1=L.Linear(4, 3),\n",
    "            l2=L.Linear(3, 3)\n",
    "        )\n",
    "\n",
    "    def __call__(self, x, y):\n",
    "        fv = self.fwd(x, y)\n",
    "        loss = F.mean_squared_error(fv, y)\n",
    "        return loss\n",
    "\n",
    "    def fwd(self, x, y):\n",
    "        return F.sigmoid(self.l1(x))\n",
    "\n",
    "```"
   ]
  },
  {
   "cell_type": "markdown",
   "metadata": {},
   "source": [
    "---"
   ]
  },
  {
   "cell_type": "markdown",
   "metadata": {},
   "source": [
    "# 3.4 optimizers"
   ]
  },
  {
   "cell_type": "markdown",
   "metadata": {
    "scrolled": true
   },
   "source": [
    "```python\n",
    "model = MyChain()\n",
    "optimizer = optimizers.SGD()\n",
    "optimizer.setup(model)\n",
    "\n",
    "model.zerograds()\n",
    "loss = model(x, y)\n",
    "loss.backward()\n",
    "optimizer.update()\n",
    "```"
   ]
  },
  {
   "cell_type": "markdown",
   "metadata": {},
   "source": [
    "---"
   ]
  },
  {
   "cell_type": "markdown",
   "metadata": {
    "collapsed": true
   },
   "source": [
    "# +α　AND・OR・XORの論理演算を学習させてみる"
   ]
  },
  {
   "cell_type": "markdown",
   "metadata": {},
   "source": [
    "### 参考\n",
    "[Chainerに入門、And/Or/Xorの実装 ](http://qiita.com/daisukelab/items/6ad3242eeba140023191)\n",
    "\n",
    "[chainerでニューラルネットを学んでみるよ(chainerでニューラルネット2)](http://hi-king.hatenablog.com/entry/2015/06/27/194630)"
   ]
  },
  {
   "cell_type": "markdown",
   "metadata": {},
   "source": [
    "## 層が1つの場合"
   ]
  },
  {
   "cell_type": "code",
   "execution_count": 81,
   "metadata": {},
   "outputs": [
    {
     "name": "stdout",
     "output_type": "stream",
     "text": [
      "<<AND: Before learning>>\n",
      "model says:\n",
      "  0 & 0 = 0 (zero:0.000000 one:0.000000)\n",
      "  0 & 1 = 0 (zero:0.524215 one:-0.120258)\n",
      "  1 & 0 = 0 (zero:-0.268319 one:-0.892265)\n",
      "  1 & 1 = 0 (zero:0.255896 one:-1.012523)\n",
      "\n",
      "<<AND: After Learning>>\n",
      "epoch 0\n",
      "model says:\n",
      "  0 & 0 = 0 (zero:0.381592 one:-0.381592)\n",
      "  0 & 1 = 0 (zero:0.536354 one:-0.132397)\n",
      "  1 & 0 = 0 (zero:-0.253692 one:-0.906892)\n",
      "  1 & 1 = 0 (zero:-0.098930 one:-0.657697)\n",
      "epoch 1\n",
      "model says:\n",
      "  0 & 0 = 0 (zero:0.699044 one:-0.699044)\n",
      "  0 & 1 = 0 (zero:0.589686 one:-0.185729)\n",
      "  1 & 0 = 0 (zero:-0.198748 one:-0.961835)\n",
      "  1 & 1 = 0 (zero:-0.308107 one:-0.448520)\n",
      "epoch 2\n",
      "model says:\n",
      "  0 & 0 = 0 (zero:0.960165 one:-0.960165)\n",
      "  0 & 1 = 0 (zero:0.648383 one:-0.244426)\n",
      "  1 & 0 = 0 (zero:-0.138965 one:-1.021619)\n",
      "  1 & 1 = 1 (zero:-0.450747 one:-0.305880)\n",
      "epoch 3\n",
      "model says:\n",
      "  0 & 0 = 0 (zero:1.180916 one:-1.180916)\n",
      "  0 & 1 = 0 (zero:0.705063 one:-0.301106)\n",
      "  1 & 0 = 0 (zero:-0.081522 one:-1.079061)\n",
      "  1 & 1 = 1 (zero:-0.557375 one:-0.199251)\n",
      "epoch 4\n",
      "model says:\n",
      "  0 & 0 = 0 (zero:1.372483 one:-1.372483)\n",
      "  0 & 1 = 0 (zero:0.758022 one:-0.354064)\n",
      "  1 & 0 = 0 (zero:-0.028007 one:-1.132576)\n",
      "  1 & 1 = 1 (zero:-0.642468 one:-0.114158)\n",
      "\n",
      "---------\n",
      "\n",
      "<<OR: Before learning>>\n",
      "model says:\n",
      "  0 & 0 = 0 (zero:0.000000 one:0.000000)\n",
      "  0 & 1 = 0 (zero:1.473021 one:-0.272417)\n",
      "  1 & 0 = 0 (zero:0.510471 one:0.418327)\n",
      "  1 & 1 = 0 (zero:1.983491 one:0.145911)\n",
      "\n",
      "<<OR: After Learning>>\n",
      "epoch 0\n",
      "model says:\n",
      "  0 & 0 = 1 (zero:-0.413521 one:0.413521)\n",
      "  0 & 1 = 1 (zero:0.202221 one:0.998382)\n",
      "  1 & 0 = 1 (zero:-0.482632 one:1.411430)\n",
      "  1 & 1 = 1 (zero:0.133110 one:1.996292)\n",
      "epoch 1\n",
      "model says:\n",
      "  0 & 0 = 1 (zero:-0.239014 one:0.239014)\n",
      "  0 & 1 = 1 (zero:0.015623 one:1.184980)\n",
      "  1 & 0 = 1 (zero:-0.524565 one:1.453363)\n",
      "  1 & 1 = 1 (zero:-0.269928 one:2.399329)\n",
      "epoch 2\n",
      "model says:\n",
      "  0 & 0 = 1 (zero:-0.060826 one:0.060826)\n",
      "  0 & 1 = 1 (zero:-0.078513 one:1.279116)\n",
      "  1 & 0 = 1 (zero:-0.519758 one:1.448556)\n",
      "  1 & 1 = 1 (zero:-0.537445 one:2.666846)\n",
      "epoch 3\n",
      "model says:\n",
      "  0 & 0 = 0 (zero:0.084761 one:-0.084761)\n",
      "  0 & 1 = 1 (zero:-0.157792 one:1.358395)\n",
      "  1 & 0 = 1 (zero:-0.528057 one:1.456855)\n",
      "  1 & 1 = 1 (zero:-0.770610 one:2.900011)\n",
      "epoch 4\n",
      "model says:\n",
      "  0 & 0 = 0 (zero:0.202579 one:-0.202579)\n",
      "  0 & 1 = 1 (zero:-0.230947 one:1.431550)\n",
      "  1 & 0 = 1 (zero:-0.549738 one:1.478536)\n",
      "  1 & 1 = 1 (zero:-0.983264 one:3.112665)\n",
      "\n",
      "---------\n",
      "\n",
      "<<XOR: Before learning>>\n",
      "model says:\n",
      "  0 & 0 = 0 (zero:0.000000 one:0.000000)\n",
      "  0 & 1 = 0 (zero:-0.119972 one:-0.648475)\n",
      "  1 & 0 = 1 (zero:-0.516843 one:0.518993)\n",
      "  1 & 1 = 1 (zero:-0.636815 one:-0.129483)\n",
      "\n",
      "<<XOR: After Learning>>\n",
      "epoch 0\n",
      "model says:\n",
      "  0 & 0 = 0 (zero:0.061346 one:-0.061346)\n",
      "  0 & 1 = 0 (zero:-0.136580 one:-0.631867)\n",
      "  1 & 0 = 1 (zero:-0.230781 one:0.232931)\n",
      "  1 & 1 = 1 (zero:-0.428707 one:-0.337590)\n",
      "epoch 1\n",
      "model says:\n",
      "  0 & 0 = 0 (zero:0.046283 one:-0.046283)\n",
      "  0 & 1 = 0 (zero:-0.228319 one:-0.540127)\n",
      "  1 & 0 = 1 (zero:-0.132978 one:0.135128)\n",
      "  1 & 1 = 1 (zero:-0.407581 one:-0.358716)\n",
      "epoch 2\n",
      "model says:\n",
      "  0 & 0 = 0 (zero:0.032503 one:-0.032503)\n",
      "  0 & 1 = 0 (zero:-0.288545 one:-0.479902)\n",
      "  1 & 0 = 1 (zero:-0.077103 one:0.079253)\n",
      "  1 & 1 = 1 (zero:-0.398151 one:-0.368146)\n",
      "epoch 3\n",
      "model says:\n",
      "  0 & 0 = 0 (zero:0.022352 one:-0.022352)\n",
      "  0 & 1 = 0 (zero:-0.325546 one:-0.442901)\n",
      "  1 & 0 = 1 (zero:-0.043536 one:0.045686)\n",
      "  1 & 1 = 1 (zero:-0.391434 one:-0.374863)\n",
      "epoch 4\n",
      "model says:\n",
      "  0 & 0 = 0 (zero:0.014948 one:-0.014948)\n",
      "  0 & 1 = 0 (zero:-0.348167 one:-0.420279)\n",
      "  1 & 0 = 1 (zero:-0.023390 one:0.025540)\n",
      "  1 & 1 = 1 (zero:-0.386506 one:-0.379791)\n",
      "epoch 5\n",
      "model says:\n",
      "  0 & 0 = 0 (zero:0.009548 one:-0.009548)\n",
      "  0 & 1 = 0 (zero:-0.362007 one:-0.406440)\n",
      "  1 & 0 = 1 (zero:-0.011340 one:0.013490)\n",
      "  1 & 1 = 0 (zero:-0.382895 one:-0.383401)\n",
      "epoch 6\n",
      "model says:\n",
      "  0 & 0 = 0 (zero:0.005608 one:-0.005608)\n",
      "  0 & 1 = 0 (zero:-0.370489 one:-0.397957)\n",
      "  1 & 0 = 1 (zero:-0.004157 one:0.006306)\n",
      "  1 & 1 = 0 (zero:-0.380254 one:-0.386042)\n",
      "epoch 7\n",
      "model says:\n",
      "  0 & 0 = 0 (zero:0.002734 one:-0.002734)\n",
      "  0 & 1 = 0 (zero:-0.375701 one:-0.392746)\n",
      "  1 & 0 = 1 (zero:0.000110 one:0.002039)\n",
      "  1 & 1 = 0 (zero:-0.378324 one:-0.387973)\n",
      "epoch 8\n",
      "model says:\n",
      "  0 & 0 = 0 (zero:0.000636 one:-0.000636)\n",
      "  0 & 1 = 0 (zero:-0.378911 one:-0.389535)\n",
      "  1 & 0 = 0 (zero:0.002634 one:-0.000484)\n",
      "  1 & 1 = 0 (zero:-0.376913 one:-0.389383)\n",
      "epoch 9\n",
      "model says:\n",
      "  0 & 0 = 1 (zero:-0.000894 one:0.000894)\n",
      "  0 & 1 = 0 (zero:-0.380895 one:-0.387551)\n",
      "  1 & 0 = 0 (zero:0.004118 one:-0.001968)\n",
      "  1 & 1 = 0 (zero:-0.375883 one:-0.390413)\n",
      "epoch 10\n",
      "model says:\n",
      "  0 & 0 = 1 (zero:-0.002011 one:0.002011)\n",
      "  0 & 1 = 0 (zero:-0.382127 one:-0.386319)\n",
      "  1 & 0 = 0 (zero:0.004985 one:-0.002835)\n",
      "  1 & 1 = 0 (zero:-0.375131 one:-0.391165)\n",
      "epoch 11\n",
      "model says:\n",
      "  0 & 0 = 1 (zero:-0.002826 one:0.002826)\n",
      "  0 & 1 = 0 (zero:-0.382894 one:-0.385552)\n",
      "  1 & 0 = 0 (zero:0.005487 one:-0.003337)\n",
      "  1 & 1 = 0 (zero:-0.374582 one:-0.391714)\n",
      "epoch 12\n",
      "model says:\n",
      "  0 & 0 = 1 (zero:-0.003420 one:0.003420)\n",
      "  0 & 1 = 0 (zero:-0.383375 one:-0.385071)\n",
      "  1 & 0 = 0 (zero:0.005774 one:-0.003624)\n",
      "  1 & 1 = 0 (zero:-0.374181 one:-0.392115)\n",
      "epoch 13\n",
      "model says:\n",
      "  0 & 0 = 1 (zero:-0.003854 one:0.003854)\n",
      "  0 & 1 = 0 (zero:-0.383678 one:-0.384768)\n",
      "  1 & 0 = 0 (zero:0.005935 one:-0.003785)\n",
      "  1 & 1 = 0 (zero:-0.373889 one:-0.392408)\n",
      "epoch 14\n",
      "model says:\n",
      "  0 & 0 = 1 (zero:-0.004171 one:0.004171)\n",
      "  0 & 1 = 0 (zero:-0.383870 one:-0.384576)\n",
      "  1 & 0 = 0 (zero:0.006024 one:-0.003874)\n",
      "  1 & 1 = 0 (zero:-0.373675 one:-0.392621)\n",
      "epoch 15\n",
      "model says:\n",
      "  0 & 0 = 1 (zero:-0.004402 one:0.004402)\n",
      "  0 & 1 = 0 (zero:-0.383992 one:-0.384454)\n",
      "  1 & 0 = 0 (zero:0.006072 one:-0.003922)\n",
      "  1 & 1 = 0 (zero:-0.373519 one:-0.392777)\n",
      "epoch 16\n",
      "model says:\n",
      "  0 & 0 = 1 (zero:-0.004570 one:0.004570)\n",
      "  0 & 1 = 0 (zero:-0.384071 one:-0.384375)\n",
      "  1 & 0 = 0 (zero:0.006096 one:-0.003946)\n",
      "  1 & 1 = 0 (zero:-0.373405 one:-0.392891)\n",
      "epoch 17\n",
      "model says:\n",
      "  0 & 0 = 1 (zero:-0.004693 one:0.004693)\n",
      "  0 & 1 = 0 (zero:-0.384122 one:-0.384324)\n",
      "  1 & 0 = 0 (zero:0.006107 one:-0.003957)\n",
      "  1 & 1 = 0 (zero:-0.373322 one:-0.392974)\n",
      "epoch 18\n",
      "model says:\n",
      "  0 & 0 = 1 (zero:-0.004783 one:0.004783)\n",
      "  0 & 1 = 0 (zero:-0.384155 one:-0.384291)\n",
      "  1 & 0 = 0 (zero:0.006111 one:-0.003961)\n",
      "  1 & 1 = 0 (zero:-0.373261 one:-0.393035)\n",
      "epoch 19\n",
      "model says:\n",
      "  0 & 0 = 1 (zero:-0.004848 one:0.004848)\n",
      "  0 & 1 = 0 (zero:-0.384177 one:-0.384269)\n",
      "  1 & 0 = 0 (zero:0.006112 one:-0.003961)\n",
      "  1 & 1 = 0 (zero:-0.373217 one:-0.393079)\n"
     ]
    }
   ],
   "source": [
    "# And/Or/Xor classifier network example\n",
    "#\n",
    "# This is re-written version of:\n",
    "#   http://hi-king.hatenablog.com/entry/2015/06/27/194630\n",
    "# By following chainer introduction:\n",
    "#   http://docs.chainer.org/en/stable/tutorial/basic.html\n",
    "\n",
    "## Chainer cliche\n",
    "import numpy as np\n",
    "import chainer\n",
    "from chainer import Function, Variable, optimizers, serializers\n",
    "from chainer import Link, Chain, ChainList\n",
    "import chainer.functions as F\n",
    "import chainer.links as L\n",
    "\n",
    "# Neural Network\n",
    "\n",
    "## Network definition\n",
    "class NN2x2x1dim(Chain):\n",
    "    def __init__(self):\n",
    "        super(NN2x2x1dim, self).__init__(\n",
    "            l = L.Linear(2, 2),\n",
    "        )\n",
    "    def __call__(self, x):\n",
    "        h = self.l(x)\n",
    "        return h\n",
    "\n",
    "# Sub routine\n",
    "\n",
    "## Utility: Summarize current results\n",
    "def summarize(model, optimizer, inputs, outputs):\n",
    "    sum_loss, sum_accuracy = 0, 0\n",
    "    print('model says:')\n",
    "    for i in range(len(inputs)):\n",
    "        x  = Variable(inputs[i].reshape(1,2).astype(np.float32))\n",
    "        t  = Variable(outputs[i].astype(np.int32))\n",
    "        y = model.predictor(x)\n",
    "        loss = model(x, t)\n",
    "        sum_loss += loss.data\n",
    "        sum_accuracy += model.accuracy.data\n",
    "        print('  %d & %d = %d (zero:%f one:%f)' % (x.data[0,0], x.data[0,1], np.argmax(y.data), y.data[0,0], y.data[0,1]))\n",
    "    #mean_loss = sum_loss / len(inputs)\n",
    "    #mean_accuracy = sum_accuracy / len(inputs)\n",
    "    #print sum_loss, sum_accuracy, mean_loss, mean_accuracy\n",
    "\n",
    "## Runs learning loop\n",
    "def learning_looper(model, optimizer, inputs, outputs, epoch_size):\n",
    "    augment_size = 100\n",
    "    for epoch in range(epoch_size):\n",
    "        print('epoch %d' % epoch)\n",
    "        for a in range(augment_size):\n",
    "            for i in range(len(inputs)):\n",
    "                x = Variable(inputs[i].reshape(1,2).astype(np.float32))\n",
    "                t = Variable(outputs[i].astype(np.int32))\n",
    "                optimizer.update(model, x, t)\n",
    "        summarize(model, optimizer, inputs, outputs)\n",
    "\n",
    "# Main\n",
    "## Test data\n",
    "inputs = np.array([[0., 0.], [0., 1.], [1., 0.], [1., 1.]], dtype=np.float32)\n",
    "and_outputs = np.array([[0], [0], [0], [1]], dtype=np.int32)\n",
    "or_outputs = np.array([[0], [1], [1], [1]], dtype=np.int32)\n",
    "xor_outputs = np.array([[0], [1], [1], [0]], dtype=np.int32)\n",
    "\n",
    "## AND Test --> will learn successfully\n",
    "## Model & Optimizer instance\n",
    "and_model = L.Classifier(NN2x2x1dim())\n",
    "optimizer = optimizers.SGD()\n",
    "# quicker) optimizer = optimizers.MomentumSGD(lr=0.01, momentum=0.9)\n",
    "optimizer.setup(and_model)\n",
    "print('<<AND: Before learning>>')\n",
    "summarize(and_model, optimizer, inputs, and_outputs)\n",
    "print('\\n<<AND: After Learning>>')\n",
    "learning_looper(and_model, optimizer, inputs, and_outputs, epoch_size = 5)\n",
    "\n",
    "## OR Test --> will learn successfully\n",
    "## Model & Optimizer instance\n",
    "or_model = L.Classifier(NN2x2x1dim())\n",
    "optimizer = optimizers.SGD()\n",
    "optimizer.setup(or_model)\n",
    "print('\\n---------\\n\\n<<OR: Before learning>>')\n",
    "summarize(or_model, optimizer, inputs, or_outputs)\n",
    "print('\\n<<OR: After Learning>>')\n",
    "learning_looper(or_model, optimizer, inputs, or_outputs, epoch_size = 5)\n",
    "\n",
    "## XOR Test --> will FAIL, single link is not enough for XOR\n",
    "## Model & Optimizer instance\n",
    "xor_model = L.Classifier(NN2x2x1dim())\n",
    "optimizer = optimizers.SGD()\n",
    "optimizer.setup(xor_model)\n",
    "print('\\n---------\\n\\n<<XOR: Before learning>>')\n",
    "summarize(xor_model, optimizer, inputs, xor_outputs)\n",
    "print('\\n<<XOR: After Learning>>')\n",
    "learning_looper(xor_model, optimizer, inputs, xor_outputs, epoch_size = 20)\n"
   ]
  },
  {
   "cell_type": "markdown",
   "metadata": {
    "collapsed": true
   },
   "source": [
    "## 層が2つの場合"
   ]
  },
  {
   "cell_type": "code",
   "execution_count": 82,
   "metadata": {
    "scrolled": false
   },
   "outputs": [
    {
     "name": "stdout",
     "output_type": "stream",
     "text": [
      "<<AND: Before learning>>\n",
      "model says:\n",
      "  0 & 0 = 1 (zero:-0.179573 one:0.387857)\n",
      "  0 & 1 = 0 (zero:0.067836 one:0.012461)\n",
      "  1 & 0 = 1 (zero:-0.168325 one:0.311524)\n",
      "  1 & 1 = 1 (zero:0.022426 one:0.023212)\n",
      "\n",
      "<<AND: After Learning>>\n",
      "epoch 0\n",
      "model says:\n",
      "  0 & 0 = 0 (zero:0.537365 one:-0.350361)\n",
      "  0 & 1 = 0 (zero:0.719311 one:-0.649290)\n",
      "  1 & 0 = 0 (zero:0.416817 one:-0.296986)\n",
      "  1 & 1 = 0 (zero:0.551563 one:-0.514293)\n",
      "epoch 1\n",
      "model says:\n",
      "  0 & 0 = 0 (zero:0.661491 one:-0.481877)\n",
      "  0 & 1 = 0 (zero:0.793295 one:-0.726322)\n",
      "  1 & 0 = 0 (zero:0.476812 one:-0.364197)\n",
      "  1 & 1 = 0 (zero:0.566894 one:-0.532505)\n",
      "epoch 2\n",
      "model says:\n",
      "  0 & 0 = 0 (zero:0.725207 one:-0.549399)\n",
      "  0 & 1 = 0 (zero:0.812829 one:-0.747653)\n",
      "  1 & 0 = 0 (zero:0.477082 one:-0.368259)\n",
      "  1 & 1 = 0 (zero:0.528156 one:-0.495635)\n",
      "epoch 3\n",
      "model says:\n",
      "  0 & 0 = 0 (zero:0.784492 one:-0.609967)\n",
      "  0 & 1 = 0 (zero:0.829188 one:-0.764965)\n",
      "  1 & 0 = 0 (zero:0.467142 one:-0.359827)\n",
      "  1 & 1 = 0 (zero:0.482500 one:-0.451108)\n",
      "epoch 4\n",
      "model says:\n",
      "  0 & 0 = 0 (zero:0.848446 one:-0.673046)\n",
      "  0 & 1 = 0 (zero:0.848352 one:-0.784340)\n",
      "  1 & 0 = 0 (zero:0.455847 one:-0.348042)\n",
      "  1 & 1 = 0 (zero:0.436643 one:-0.405729)\n",
      "epoch 5\n",
      "model says:\n",
      "  0 & 0 = 0 (zero:0.919073 one:-0.740875)\n",
      "  0 & 1 = 0 (zero:0.870427 one:-0.805961)\n",
      "  1 & 0 = 0 (zero:0.445888 one:-0.335700)\n",
      "  1 & 1 = 0 (zero:0.391512 one:-0.360486)\n",
      "epoch 6\n",
      "model says:\n",
      "  0 & 0 = 0 (zero:0.996939 one:-0.814198)\n",
      "  0 & 1 = 0 (zero:0.894741 one:-0.829239)\n",
      "  1 & 0 = 0 (zero:0.438884 one:-0.324422)\n",
      "  1 & 1 = 0 (zero:0.347035 one:-0.315350)\n",
      "epoch 7\n",
      "model says:\n",
      "  0 & 0 = 0 (zero:1.082112 one:-0.893240)\n",
      "  0 & 1 = 0 (zero:0.920452 one:-0.853417)\n",
      "  1 & 0 = 0 (zero:0.436340 one:-0.315665)\n",
      "  1 & 1 = 0 (zero:0.302984 one:-0.270116)\n",
      "epoch 8\n",
      "model says:\n",
      "  0 & 0 = 0 (zero:1.174333 one:-0.977900)\n",
      "  0 & 1 = 0 (zero:0.946575 one:-0.877616)\n",
      "  1 & 0 = 0 (zero:0.439808 one:-0.310918)\n",
      "  1 & 1 = 0 (zero:0.259130 one:-0.224575)\n",
      "epoch 9\n",
      "model says:\n",
      "  0 & 0 = 0 (zero:1.273042 one:-1.067811)\n",
      "  0 & 1 = 0 (zero:0.972016 one:-0.900869)\n",
      "  1 & 0 = 0 (zero:0.450758 one:-0.311647)\n",
      "  1 & 1 = 0 (zero:0.215229 one:-0.178519)\n",
      "epoch 10\n",
      "model says:\n",
      "  0 & 0 = 0 (zero:1.377377 one:-1.162371)\n",
      "  0 & 1 = 0 (zero:0.995656 one:-0.922223)\n",
      "  1 & 0 = 0 (zero:0.470259 one:-0.319073)\n",
      "  1 & 1 = 0 (zero:0.170966 one:-0.131714)\n",
      "epoch 11\n",
      "model says:\n",
      "  0 & 0 = 0 (zero:1.486211 one:-1.260795)\n",
      "  0 & 1 = 0 (zero:1.016531 one:-0.940910)\n",
      "  1 & 0 = 0 (zero:0.498597 one:-0.333866)\n",
      "  1 & 1 = 0 (zero:0.125938 one:-0.083915)\n",
      "epoch 12\n",
      "model says:\n",
      "  0 & 0 = 0 (zero:1.598288 one:-1.362244)\n",
      "  0 & 1 = 0 (zero:1.034064 one:-0.956575)\n",
      "  1 & 0 = 0 (zero:0.535015 one:-0.355915)\n",
      "  1 & 1 = 0 (zero:0.079725 one:-0.034935)\n",
      "epoch 13\n",
      "model says:\n",
      "  0 & 0 = 0 (zero:1.712475 one:-1.465994)\n",
      "  0 & 1 = 0 (zero:1.048299 one:-0.969442)\n",
      "  1 & 0 = 0 (zero:0.577879 one:-0.384357)\n",
      "  1 & 1 = 0 (zero:0.032042 one:0.015239)\n",
      "epoch 14\n",
      "model says:\n",
      "  0 & 0 = 0 (zero:1.827952 one:-1.571556)\n",
      "  0 & 1 = 0 (zero:1.059929 one:-0.980305)\n",
      "  1 & 0 = 0 (zero:0.625185 one:-0.417897)\n",
      "  1 & 1 = 1 (zero:-0.017108 one:0.066373)\n",
      "epoch 15\n",
      "model says:\n",
      "  0 & 0 = 0 (zero:1.944215 one:-1.678631)\n",
      "  0 & 1 = 0 (zero:1.070076 one:-0.990282)\n",
      "  1 & 0 = 0 (zero:0.675114 one:-0.455204)\n",
      "  1 & 1 = 1 (zero:-0.067393 one:0.118006)\n",
      "epoch 16\n",
      "model says:\n",
      "  0 & 0 = 0 (zero:2.060908 one:-1.786943)\n",
      "  0 & 1 = 0 (zero:1.079930 one:-1.000474)\n",
      "  1 & 0 = 0 (zero:0.726304 one:-0.495137)\n",
      "  1 & 1 = 1 (zero:-0.118248 one:0.169566)\n",
      "epoch 17\n",
      "model says:\n",
      "  0 & 0 = 0 (zero:2.177649 one:-1.896102)\n",
      "  0 & 1 = 0 (zero:1.090442 one:-1.011706)\n",
      "  1 & 0 = 0 (zero:0.777830 one:-0.536783)\n",
      "  1 & 1 = 1 (zero:-0.169039 one:0.220497)\n",
      "epoch 18\n",
      "model says:\n",
      "  0 & 0 = 0 (zero:2.293959 one:-2.005573)\n",
      "  0 & 1 = 0 (zero:1.102214 one:-1.024445)\n",
      "  1 & 0 = 0 (zero:0.829059 one:-0.579406)\n",
      "  1 & 1 = 1 (zero:-0.219188 one:0.270343)\n",
      "epoch 19\n",
      "model says:\n",
      "  0 & 0 = 0 (zero:2.409294 one:-2.114736)\n",
      "  0 & 1 = 0 (zero:1.115508 one:-1.038840)\n",
      "  1 & 0 = 0 (zero:0.879548 one:-0.622409)\n",
      "  1 & 1 = 1 (zero:-0.268243 one:0.318776)\n",
      "epoch 20\n",
      "model says:\n",
      "  0 & 0 = 0 (zero:2.523105 one:-2.222967)\n",
      "  0 & 1 = 0 (zero:1.130342 one:-1.054825)\n",
      "  1 & 0 = 0 (zero:0.928972 one:-0.665305)\n",
      "  1 & 1 = 1 (zero:-0.315888 one:0.365590)\n",
      "\n",
      "---------\n",
      "\n",
      "<<OR: Before learning>>\n",
      "model says:\n",
      "  0 & 0 = 1 (zero:-0.430249 one:-0.034108)\n",
      "  0 & 1 = 1 (zero:-0.405605 one:-0.212285)\n",
      "  1 & 0 = 1 (zero:-0.529742 one:-0.079065)\n",
      "  1 & 1 = 1 (zero:-0.445352 one:-0.224620)\n",
      "\n",
      "<<OR: After Learning>>\n",
      "epoch 0\n",
      "model says:\n",
      "  0 & 0 = 1 (zero:-0.731079 one:0.274709)\n",
      "  0 & 1 = 1 (zero:-0.889993 one:0.271730)\n",
      "  1 & 0 = 1 (zero:-0.916198 one:0.304122)\n",
      "  1 & 1 = 1 (zero:-0.959981 one:0.284073)\n",
      "epoch 1\n",
      "model says:\n",
      "  0 & 0 = 1 (zero:-0.671049 one:0.232747)\n",
      "  0 & 1 = 1 (zero:-0.974748 one:0.361042)\n",
      "  1 & 0 = 1 (zero:-0.907265 one:0.299653)\n",
      "  1 & 1 = 1 (zero:-1.061083 one:0.383453)\n",
      "epoch 2\n",
      "model says:\n",
      "  0 & 0 = 1 (zero:-0.583311 one:0.165962)\n",
      "  0 & 1 = 1 (zero:-1.033232 one:0.425635)\n",
      "  1 & 0 = 1 (zero:-0.879765 one:0.277398)\n",
      "  1 & 1 = 1 (zero:-1.139541 one:0.461166)\n",
      "epoch 3\n",
      "model says:\n",
      "  0 & 0 = 1 (zero:-0.488498 one:0.092785)\n",
      "  0 & 1 = 1 (zero:-1.091143 one:0.490321)\n",
      "  1 & 0 = 1 (zero:-0.862006 one:0.263663)\n",
      "  1 & 1 = 1 (zero:-1.224542 one:0.545721)\n",
      "epoch 4\n",
      "model says:\n",
      "  0 & 0 = 1 (zero:-0.388894 one:0.013780)\n",
      "  0 & 1 = 1 (zero:-1.150573 one:0.556456)\n",
      "  1 & 0 = 1 (zero:-0.859286 one:0.262464)\n",
      "  1 & 1 = 1 (zero:-1.319201 one:0.639857)\n",
      "epoch 5\n",
      "model says:\n",
      "  0 & 0 = 1 (zero:-0.286424 one:-0.070388)\n",
      "  0 & 1 = 1 (zero:-1.211175 one:0.623037)\n",
      "  1 & 0 = 1 (zero:-0.873794 one:0.275378)\n",
      "  1 & 1 = 1 (zero:-1.422325 one:0.742239)\n",
      "epoch 6\n",
      "model says:\n",
      "  0 & 0 = 1 (zero:-0.183137 one:-0.158258)\n",
      "  0 & 1 = 1 (zero:-1.272175 one:0.688868)\n",
      "  1 & 0 = 1 (zero:-0.905338 one:0.302414)\n",
      "  1 & 1 = 1 (zero:-1.530925 one:0.849953)\n",
      "epoch 7\n",
      "model says:\n",
      "  0 & 0 = 0 (zero:-0.080817 one:-0.248043)\n",
      "  0 & 1 = 1 (zero:-1.332792 one:0.753032)\n",
      "  1 & 0 = 1 (zero:-0.951476 one:0.341949)\n",
      "  1 & 1 = 1 (zero:-1.641482 one:0.959663)\n",
      "epoch 8\n",
      "model says:\n",
      "  0 & 0 = 0 (zero:0.019063 one:-0.337922)\n",
      "  0 & 1 = 1 (zero:-1.392420 one:0.815002)\n",
      "  1 & 0 = 1 (zero:-1.008429 one:0.391233)\n",
      "  1 & 1 = 1 (zero:-1.750915 one:1.068447)\n",
      "epoch 9\n",
      "model says:\n",
      "  0 & 0 = 0 (zero:0.115297 one:-0.426234)\n",
      "  0 & 1 = 1 (zero:-1.450657 one:0.874568)\n",
      "  1 & 0 = 1 (zero:-1.072189 one:0.447150)\n",
      "  1 & 1 = 1 (zero:-1.856995 one:1.174155)\n",
      "epoch 10\n",
      "model says:\n",
      "  0 & 0 = 0 (zero:0.206977 one:-0.511636)\n",
      "  0 & 1 = 1 (zero:-1.507248 one:0.931685)\n",
      "  1 & 0 = 1 (zero:-1.139311 one:0.506851)\n",
      "  1 & 1 = 1 (zero:-1.958343 one:1.275410)\n",
      "epoch 11\n",
      "model says:\n",
      "  0 & 0 = 0 (zero:0.293538 one:-0.593199)\n",
      "  0 & 1 = 1 (zero:-1.562020 one:0.986374)\n",
      "  1 & 0 = 1 (zero:-1.207205 one:0.568055)\n",
      "  1 & 1 = 1 (zero:-2.054240 one:1.371449)\n",
      "epoch 12\n",
      "model says:\n",
      "  0 & 0 = 0 (zero:0.374747 one:-0.670399)\n",
      "  0 & 1 = 1 (zero:-1.614839 one:1.038669)\n",
      "  1 & 0 = 1 (zero:-1.274107 one:0.629106)\n",
      "  1 & 1 = 1 (zero:-2.144412 one:1.461944)\n",
      "epoch 13\n",
      "model says:\n",
      "  0 & 0 = 0 (zero:0.450630 one:-0.743039)\n",
      "  0 & 1 = 1 (zero:-1.665620 one:1.088616)\n",
      "  1 & 0 = 1 (zero:-1.338934 one:0.688906)\n",
      "  1 & 1 = 1 (zero:-2.228890 one:1.546873)\n",
      "epoch 14\n",
      "model says:\n",
      "  0 & 0 = 0 (zero:0.521398 one:-0.811159)\n",
      "  0 & 1 = 1 (zero:-1.714308 one:1.136260)\n",
      "  1 & 0 = 1 (zero:-1.401071 one:0.746768)\n",
      "  1 & 1 = 1 (zero:-2.307871 one:1.626389)\n",
      "epoch 15\n",
      "model says:\n",
      "  0 & 0 = 0 (zero:0.587367 one:-0.874946)\n",
      "  0 & 1 = 1 (zero:-1.760892 one:1.181667)\n",
      "  1 & 0 = 1 (zero:-1.460241 one:0.802317)\n",
      "  1 & 1 = 1 (zero:-2.381667 one:1.700768)\n",
      "epoch 16\n",
      "model says:\n",
      "  0 & 0 = 0 (zero:0.648900 one:-0.934662)\n",
      "  0 & 1 = 1 (zero:-1.805405 one:1.224923)\n",
      "  1 & 0 = 1 (zero:-1.516372 one:0.855388)\n",
      "  1 & 1 = 1 (zero:-2.450638 one:1.770347)\n",
      "epoch 17\n",
      "model says:\n",
      "  0 & 0 = 0 (zero:0.706373 one:-0.990609)\n",
      "  0 & 1 = 1 (zero:-1.847894 one:1.266119)\n",
      "  1 & 0 = 1 (zero:-1.569516 one:0.905944)\n",
      "  1 & 1 = 1 (zero:-2.515159 one:1.835481)\n",
      "epoch 18\n",
      "model says:\n",
      "  0 & 0 = 0 (zero:0.760150 one:-1.043094)\n",
      "  0 & 1 = 1 (zero:-1.888438 one:1.305360)\n",
      "  1 & 0 = 1 (zero:-1.619797 one:0.954030)\n",
      "  1 & 1 = 1 (zero:-2.575595 one:1.896526)\n",
      "epoch 19\n",
      "model says:\n",
      "  0 & 0 = 0 (zero:0.810576 one:-1.092414)\n",
      "  0 & 1 = 1 (zero:-1.927122 one:1.342750)\n",
      "  1 & 0 = 1 (zero:-1.667371 one:0.999740)\n",
      "  1 & 1 = 1 (zero:-2.632297 one:1.953822)\n",
      "epoch 20\n"
     ]
    },
    {
     "name": "stdout",
     "output_type": "stream",
     "text": [
      "model says:\n",
      "  0 & 0 = 0 (zero:0.857957 one:-1.138844)\n",
      "  0 & 1 = 1 (zero:-1.964046 one:1.378404)\n",
      "  1 & 0 = 1 (zero:-1.712421 one:1.043203)\n",
      "  1 & 1 = 1 (zero:-2.685595 one:2.007698)\n",
      "\n",
      "---------\n",
      "\n",
      "<<XOR: Before learning>>\n",
      "model says:\n",
      "  0 & 0 = 0 (zero:0.467032 one:-0.762461)\n",
      "  0 & 1 = 0 (zero:0.557843 one:-0.932123)\n",
      "  1 & 0 = 0 (zero:0.457739 one:-0.904331)\n",
      "  1 & 1 = 0 (zero:0.552320 one:-1.057605)\n",
      "\n",
      "<<XOR: After Learning>>\n",
      "epoch 0\n",
      "model says:\n",
      "  0 & 0 = 1 (zero:-0.171513 one:-0.133042)\n",
      "  0 & 1 = 0 (zero:-0.187776 one:-0.214917)\n",
      "  1 & 0 = 1 (zero:-0.259501 one:-0.203865)\n",
      "  1 & 1 = 0 (zero:-0.264028 one:-0.277891)\n",
      "epoch 10\n",
      "model says:\n",
      "  0 & 0 = 0 (zero:1.396721 one:-1.509013)\n",
      "  0 & 1 = 1 (zero:-1.922323 one:1.037175)\n",
      "  1 & 0 = 1 (zero:-1.922133 one:1.036954)\n",
      "  1 & 1 = 0 (zero:1.037982 one:-1.705206)\n",
      "epoch 20\n",
      "model says:\n",
      "  0 & 0 = 0 (zero:2.145499 one:-2.217210)\n",
      "  0 & 1 = 1 (zero:-2.752809 one:1.834697)\n",
      "  1 & 0 = 1 (zero:-2.752818 one:1.834687)\n",
      "  1 & 1 = 0 (zero:1.916067 one:-2.560771)\n",
      "epoch 30\n",
      "model says:\n",
      "  0 & 0 = 0 (zero:2.446147 one:-2.507760)\n",
      "  0 & 1 = 1 (zero:-3.071479 one:2.144327)\n",
      "  1 & 0 = 1 (zero:-3.071507 one:2.144341)\n",
      "  1 & 1 = 0 (zero:2.245239 one:-2.883423)\n",
      "epoch 40\n",
      "model says:\n",
      "  0 & 0 = 0 (zero:2.635462 one:-2.691803)\n",
      "  0 & 1 = 1 (zero:-3.269673 one:2.337608)\n",
      "  1 & 0 = 1 (zero:-3.269711 one:2.337634)\n",
      "  1 & 1 = 0 (zero:2.448528 one:-3.083138)\n",
      "epoch 50\n",
      "model says:\n",
      "  0 & 0 = 0 (zero:2.773644 one:-2.826563)\n",
      "  0 & 1 = 1 (zero:-3.413433 one:2.478098)\n",
      "  1 & 0 = 1 (zero:-3.413435 one:2.478091)\n",
      "  1 & 1 = 0 (zero:2.595422 one:-3.227649)\n",
      "epoch 60\n",
      "model says:\n",
      "  0 & 0 = 0 (zero:2.882434 one:-2.932875)\n",
      "  0 & 1 = 1 (zero:-3.526083 one:2.588346)\n",
      "  1 & 0 = 1 (zero:-3.526140 one:2.588393)\n",
      "  1 & 1 = 0 (zero:2.710253 one:-3.340726)\n",
      "epoch 70\n",
      "model says:\n",
      "  0 & 0 = 0 (zero:2.972114 one:-3.020644)\n",
      "  0 & 1 = 1 (zero:-3.618709 one:2.679089)\n",
      "  1 & 0 = 1 (zero:-3.618728 one:2.679101)\n",
      "  1 & 1 = 0 (zero:2.804527 one:-3.433630)\n",
      "epoch 80\n",
      "model says:\n",
      "  0 & 0 = 0 (zero:3.048373 one:-3.095360)\n",
      "  0 & 1 = 1 (zero:-3.697352 one:2.756202)\n",
      "  1 & 0 = 1 (zero:-3.697313 one:2.756159)\n",
      "  1 & 1 = 0 (zero:2.884398 one:-3.512362)\n",
      "epoch 90\n",
      "model says:\n",
      "  0 & 0 = 0 (zero:3.114737 one:-3.160440)\n",
      "  0 & 1 = 1 (zero:-3.765530 one:2.823096)\n",
      "  1 & 0 = 1 (zero:-3.765605 one:2.823162)\n",
      "  1 & 1 = 0 (zero:2.953562 one:-3.580641)\n",
      "epoch 100\n",
      "model says:\n",
      "  0 & 0 = 0 (zero:3.173436 one:-3.218052)\n",
      "  0 & 1 = 1 (zero:-3.825725 one:2.882213)\n",
      "  1 & 0 = 1 (zero:-3.825862 one:2.882338)\n",
      "  1 & 1 = 0 (zero:3.014813 one:-3.641021)\n",
      "epoch 110\n",
      "model says:\n",
      "  0 & 0 = 0 (zero:3.226004 one:-3.269675)\n",
      "  0 & 1 = 1 (zero:-3.879742 one:2.935276)\n",
      "  1 & 0 = 1 (zero:-3.879883 one:2.935406)\n",
      "  1 & 1 = 0 (zero:3.069472 one:-3.694977)\n",
      "epoch 120\n",
      "model says:\n",
      "  0 & 0 = 0 (zero:3.273745 one:-3.316585)\n",
      "  0 & 1 = 1 (zero:-3.928582 one:2.983254)\n",
      "  1 & 0 = 1 (zero:-3.928683 one:2.983346)\n",
      "  1 & 1 = 0 (zero:3.118962 one:-3.743897)\n",
      "epoch 130\n",
      "model says:\n",
      "  0 & 0 = 0 (zero:3.317318 one:-3.359416)\n",
      "  0 & 1 = 1 (zero:-3.973207 one:3.027227)\n",
      "  1 & 0 = 1 (zero:-3.973238 one:3.027253)\n",
      "  1 & 1 = 0 (zero:3.164173 one:-3.788455)\n",
      "epoch 140\n",
      "model says:\n",
      "  0 & 0 = 0 (zero:3.357395 one:-3.398825)\n",
      "  0 & 1 = 1 (zero:-4.014287 one:3.067653)\n",
      "  1 & 0 = 1 (zero:-4.014322 one:3.067683)\n",
      "  1 & 1 = 0 (zero:3.205709 one:-3.829464)\n",
      "epoch 150\n",
      "model says:\n",
      "  0 & 0 = 0 (zero:3.394671 one:-3.435492)\n",
      "  0 & 1 = 1 (zero:-4.052292 one:3.105069)\n",
      "  1 & 0 = 1 (zero:-4.052266 one:3.105039)\n",
      "  1 & 1 = 0 (zero:3.244263 one:-3.867538)\n",
      "epoch 160\n",
      "model says:\n",
      "  0 & 0 = 0 (zero:3.429369 one:-3.469642)\n",
      "  0 & 1 = 1 (zero:-4.087768 one:3.139918)\n",
      "  1 & 0 = 1 (zero:-4.087711 one:3.139860)\n",
      "  1 & 1 = 0 (zero:3.279957 one:-3.902879)\n",
      "epoch 170\n",
      "model says:\n",
      "  0 & 0 = 0 (zero:3.461783 one:-3.501567)\n",
      "  0 & 1 = 1 (zero:-4.121063 one:3.172524)\n",
      "  1 & 0 = 1 (zero:-4.120941 one:3.172403)\n",
      "  1 & 1 = 0 (zero:3.313383 one:-3.936092)\n",
      "epoch 180\n",
      "model says:\n",
      "  0 & 0 = 0 (zero:3.492198 one:-3.531513)\n",
      "  0 & 1 = 1 (zero:-4.152331 one:3.203248)\n",
      "  1 & 0 = 1 (zero:-4.152124 one:3.203048)\n",
      "  1 & 1 = 0 (zero:3.344810 one:-3.967227)\n",
      "epoch 190\n",
      "model says:\n",
      "  0 & 0 = 0 (zero:3.520945 one:-3.559820)\n",
      "  0 & 1 = 1 (zero:-4.181587 one:3.232166)\n",
      "  1 & 0 = 1 (zero:-4.181324 one:3.231910)\n",
      "  1 & 1 = 0 (zero:3.374620 one:-3.996591)\n",
      "epoch 200\n",
      "model says:\n",
      "  0 & 0 = 0 (zero:3.548147 one:-3.586607)\n",
      "  0 & 1 = 1 (zero:-4.209373 one:3.259734)\n",
      "  1 & 0 = 1 (zero:-4.208982 one:3.259356)\n",
      "  1 & 1 = 0 (zero:3.402652 one:-4.024108)\n",
      "epoch 210\n",
      "model says:\n",
      "  0 & 0 = 0 (zero:3.573896 one:-3.611996)\n",
      "  0 & 1 = 1 (zero:-4.235856 one:3.285554)\n",
      "  1 & 0 = 1 (zero:-4.235519 one:3.285228)\n",
      "  1 & 1 = 0 (zero:3.428962 one:-4.050416)\n",
      "epoch 220\n",
      "model says:\n",
      "  0 & 0 = 0 (zero:3.598499 one:-3.636274)\n",
      "  0 & 1 = 1 (zero:-4.260884 one:3.310285)\n",
      "  1 & 0 = 1 (zero:-4.260612 one:3.310020)\n",
      "  1 & 1 = 0 (zero:3.454343 one:-4.075455)\n",
      "epoch 230\n",
      "model says:\n",
      "  0 & 0 = 0 (zero:3.621904 one:-3.659427)\n",
      "  0 & 1 = 1 (zero:-4.284208 one:3.333523)\n",
      "  1 & 0 = 1 (zero:-4.284057 one:3.333375)\n",
      "  1 & 1 = 0 (zero:3.478666 one:-4.099267)\n",
      "epoch 240\n",
      "model says:\n",
      "  0 & 0 = 0 (zero:3.644410 one:-3.681643)\n",
      "  0 & 1 = 1 (zero:-4.307709 one:3.356002)\n",
      "  1 & 0 = 1 (zero:-4.307625 one:3.355918)\n",
      "  1 & 1 = 0 (zero:3.501075 one:-4.122159)\n",
      "epoch 250\n",
      "model says:\n",
      "  0 & 0 = 0 (zero:3.666023 one:-3.702920)\n",
      "  0 & 1 = 1 (zero:-4.328822 one:3.377557)\n",
      "  1 & 0 = 1 (zero:-4.328762 one:3.377496)\n",
      "  1 & 1 = 0 (zero:3.523574 one:-4.143670)\n"
     ]
    }
   ],
   "source": [
    "# Chainer training: And/Or/Xor classifier network example with 2 links.\n",
    "#\n",
    "# This is re-written version of:\n",
    "#   http://hi-king.hatenablog.com/entry/2015/06/27/194630\n",
    "# By following chainer introduction:\n",
    "#   http://docs.chainer.org/en/stable/tutorial/basic.html\n",
    "\n",
    "## Chainer cliche\n",
    "import numpy as np\n",
    "import chainer\n",
    "from chainer import Function, Variable, optimizers, serializers\n",
    "from chainer import Link, Chain, ChainList\n",
    "import chainer.functions as F\n",
    "\n",
    "import chainer.links as L\n",
    "\n",
    "# Neural Network\n",
    "\n",
    "## Network definition\n",
    "class NN2x2_2links(Chain):\n",
    "    def __init__(self):\n",
    "        super(NN2x2_2links, self).__init__(\n",
    "            l1 = L.Linear(2, 2),\n",
    "            l2 = L.Linear(2, 2),\n",
    "        )\n",
    "    def __call__(self, x):\n",
    "        h = self.l2(F.sigmoid(self.l1(x)))\n",
    "        return h\n",
    "\n",
    "# Sub routine\n",
    "\n",
    "## Utility: Summarize current results\n",
    "def summarize(model, optimizer, inputs, outputs):\n",
    "    sum_loss, sum_accuracy = 0, 0\n",
    "    print('model says:')\n",
    "    for i in range(len(inputs)):\n",
    "        x  = Variable(inputs[i].reshape(1,2).astype(np.float32))\n",
    "        t  = Variable(outputs[i].astype(np.int32))\n",
    "        y = model.predictor(x)\n",
    "        loss = model(x, t)\n",
    "        sum_loss += loss.data\n",
    "        sum_accuracy += model.accuracy.data\n",
    "        print('  %d & %d = %d (zero:%f one:%f)' % (x.data[0,0], x.data[0,1], np.argmax(y.data), y.data[0,0], y.data[0,1]))\n",
    "    #mean_loss = sum_loss / len(inputs)\n",
    "    #mean_accuracy = sum_accuracy / len(inputs)\n",
    "    #print sum_loss, sum_accuracy, mean_loss, mean_accuracy\n",
    "\n",
    "## Runs learning loop\n",
    "def learning_looper(model, optimizer, inputs, outputs, epoch_size):\n",
    "    augment_size = 100\n",
    "    for epoch in range(epoch_size):\n",
    "        print('epoch %d' % epoch)\n",
    "        for a in range(augment_size):\n",
    "            for i in range(len(inputs)):\n",
    "                x = Variable(inputs[i].reshape(1,2).astype(np.float32))\n",
    "                t = Variable(outputs[i].astype(np.int32))\n",
    "                optimizer.update(model, x, t)\n",
    "        summarize(model, optimizer, inputs, outputs)\n",
    "        \n",
    "## Runs XOR_learning loop\n",
    "def XOR_learning_looper(model, optimizer, inputs, outputs, epoch_size):\n",
    "    augment_size = 100\n",
    "    for epoch in range(epoch_size):\n",
    "        if epoch%10==0:\n",
    "            print('epoch %d' % epoch)\n",
    "        for a in range(augment_size):\n",
    "            for i in range(len(inputs)):\n",
    "                x = Variable(inputs[i].reshape(1,2).astype(np.float32))\n",
    "                t = Variable(outputs[i].astype(np.int32))\n",
    "                optimizer.update(model, x, t)\n",
    "        if epoch%10==0:\n",
    "            summarize(model, optimizer, inputs, outputs)\n",
    "\n",
    "# Main\n",
    "\n",
    "## Test data\n",
    "inputs = np.array([[0., 0.], [0., 1.], [1., 0.], [1., 1.]], dtype=np.float32)\n",
    "and_outputs = np.array([[0], [0], [0], [1]], dtype=np.int32)\n",
    "or_outputs = np.array([[0], [1], [1], [1]], dtype=np.int32)\n",
    "xor_outputs = np.array([[0], [1], [1], [0]], dtype=np.int32)\n",
    "\n",
    "## AND Test --> will learn successfully\n",
    "and_model = L.Classifier(NN2x2_2links())\n",
    "optimizer = optimizers.SGD()\n",
    "# do it quicker) optimizer = optimizers.MomentumSGD(lr=0.01, momentum=0.9)\n",
    "optimizer.setup(and_model)\n",
    "print('<<AND: Before learning>>')\n",
    "summarize(and_model, optimizer, inputs, and_outputs)\n",
    "print('\\n<<AND: After Learning>>')\n",
    "learning_looper(and_model, optimizer, inputs, and_outputs, epoch_size = 21)\n",
    "\n",
    "## OR Test --> will learn successfully\n",
    "or_model = L.Classifier(NN2x2_2links())\n",
    "optimizer = optimizers.SGD()\n",
    "optimizer.setup(or_model)\n",
    "print('\\n---------\\n\\n<<OR: Before learning>>')\n",
    "summarize(or_model, optimizer, inputs, or_outputs)\n",
    "print('\\n<<OR: After Learning>>')\n",
    "learning_looper(or_model, optimizer, inputs, or_outputs, epoch_size = 21)\n",
    "\n",
    "## XOR Test --> will learn successfully\n",
    "xor_model = L.Classifier(NN2x2_2links())\n",
    "#optimizer = optimizers.SGD()\n",
    "optimizer = optimizers.MomentumSGD(lr=0.01, momentum=0.9)\n",
    "optimizer.setup(xor_model)\n",
    "print('\\n---------\\n\\n<<XOR: Before learning>>')\n",
    "summarize(xor_model, optimizer, inputs, xor_outputs)\n",
    "print('\\n<<XOR: After Learning>>')\n",
    "XOR_learning_looper(xor_model, optimizer, inputs, xor_outputs, epoch_size = 251)\n"
   ]
  },
  {
   "cell_type": "markdown",
   "metadata": {
    "collapsed": true
   },
   "source": [
    "## こっちでもできます"
   ]
  },
  {
   "cell_type": "code",
   "execution_count": 83,
   "metadata": {},
   "outputs": [
    {
     "name": "stdout",
     "output_type": "stream",
     "text": [
      "epoch: 0\n",
      " 0 & 0 = 0 (zero:0.556705 one:-0.042976)\n",
      " 0 & 1 = 0 (zero:0.666973 one:-0.017424)\n",
      " 1 & 0 = 0 (zero:0.439101 one:0.003760)\n",
      " 1 & 1 = 0 (zero:0.529542 one:0.050103)\n",
      "epoch: 100\n",
      " 0 & 0 = 0 (zero:0.268885 one:0.245163)\n",
      " 0 & 1 = 0 (zero:0.362178 one:0.293970)\n",
      " 1 & 0 = 1 (zero:0.193413 one:0.251139)\n",
      " 1 & 1 = 1 (zero:0.271345 one:0.315815)\n",
      "epoch: 200\n",
      " 0 & 0 = 0 (zero:0.269798 one:0.247691)\n",
      " 0 & 1 = 0 (zero:0.361424 one:0.305817)\n",
      " 1 & 0 = 1 (zero:0.203206 one:0.247351)\n",
      " 1 & 1 = 1 (zero:0.279754 one:0.320722)\n",
      "epoch: 300\n",
      " 0 & 0 = 0 (zero:0.271520 one:0.249168)\n",
      " 0 & 1 = 0 (zero:0.362605 one:0.315441)\n",
      " 1 & 0 = 1 (zero:0.210518 one:0.245588)\n",
      " 1 & 1 = 1 (zero:0.286647 one:0.326352)\n",
      "epoch: 400\n",
      " 0 & 0 = 0 (zero:0.274231 one:0.249548)\n",
      " 0 & 1 = 0 (zero:0.365175 one:0.323945)\n",
      " 1 & 0 = 1 (zero:0.216460 one:0.245223)\n",
      " 1 & 1 = 1 (zero:0.292468 one:0.333037)\n",
      "epoch: 500\n",
      " 0 & 0 = 0 (zero:0.278565 one:0.248413)\n",
      " 0 & 1 = 0 (zero:0.369048 one:0.332204)\n",
      " 1 & 0 = 1 (zero:0.221778 one:0.246102)\n",
      " 1 & 1 = 1 (zero:0.297310 one:0.341599)\n",
      "epoch: 600\n",
      " 0 & 0 = 0 (zero:0.285995 one:0.244703)\n",
      " 0 & 1 = 0 (zero:0.374482 one:0.341340)\n",
      " 1 & 0 = 1 (zero:0.227226 one:0.248508)\n",
      " 1 & 1 = 1 (zero:0.300921 one:0.353715)\n",
      "epoch: 700\n",
      " 0 & 0 = 0 (zero:0.300071 one:0.235682)\n",
      " 0 & 1 = 0 (zero:0.382022 one:0.353398)\n",
      " 1 & 0 = 1 (zero:0.233842 one:0.253508)\n",
      " 1 & 1 = 1 (zero:0.302193 one:0.372824)\n",
      "epoch: 800\n",
      " 0 & 0 = 0 (zero:0.330132 one:0.213329)\n",
      " 0 & 1 = 0 (zero:0.391530 one:0.372785)\n",
      " 1 & 0 = 1 (zero:0.242556 one:0.264174)\n",
      " 1 & 1 = 1 (zero:0.297104 one:0.405523)\n",
      "epoch: 900\n",
      " 0 & 0 = 0 (zero:0.399629 one:0.152742)\n",
      " 0 & 1 = 1 (zero:0.395541 one:0.407973)\n",
      " 1 & 0 = 1 (zero:0.248323 one:0.288214)\n",
      " 1 & 1 = 1 (zero:0.274137 one:0.458781)\n",
      "epoch: 1000\n",
      " 0 & 0 = 0 (zero:0.553247 one:-0.009547)\n",
      " 0 & 1 = 1 (zero:0.366427 one:0.468334)\n",
      " 1 & 0 = 1 (zero:0.224808 one:0.337905)\n",
      " 1 & 1 = 1 (zero:0.215237 one:0.531359)\n"
     ]
    }
   ],
   "source": [
    "#!/usr/bin/env python\n",
    "\n",
    "# 参考元 : http://hi-king.hatenablog.com/entry/2015/06/27/194630\n",
    "\n",
    "import random\n",
    "import argparse\n",
    "import numpy\n",
    "import chainer\n",
    "import chainer.optimizers\n",
    "\n",
    "\n",
    "class SmallClassificationModel(chainer.Chain):\n",
    "    def __init__(self):\n",
    "        super(SmallClassificationModel, self).__init__(\n",
    "            l1 = chainer.links.Linear(2, 2)\n",
    "            )\n",
    "    def _forward(self, x):\n",
    "        h = self.l1(x)\n",
    "        return h\n",
    "\n",
    "    def train(self, x_data, y_data):\n",
    "        x = chainer.Variable(x_data.reshape(1,2).astype(numpy.float32))\n",
    "        y = chainer.Variable(y_data.astype(numpy.int32))\n",
    "        h = self._forward(x)\n",
    "\n",
    "        self.zerograds()\n",
    "        error = chainer.functions.softmax_cross_entropy(h, y)\n",
    "        accuracy = chainer.functions.accuracy(h, y)\n",
    "        error.backward()\n",
    "        optimizer.update()\n",
    "        if epoch%100==0:\n",
    "            print(' %d & %d = %d (zero:%f one:%f)' % (x.data[0,0], x.data[0,1], h.data.argmax(), h.data[0,0], h.data[0,1]))\n",
    "        #print(\"error: {}\".format(error.data[0]))\n",
    "        #print(\"accuracy: {}\".format(accuracy.data))\n",
    "\n",
    "class ClassificationModel(chainer.Chain):\n",
    "    def __init__(self):\n",
    "        super(ClassificationModel, self).__init__(\n",
    "            l1 = chainer.links.Linear(2, 2),\n",
    "            l2 = chainer.links.Linear(2, 2)\n",
    "            )\n",
    "    def _forward(self, x):\n",
    "        h = self.l2(chainer.functions.sigmoid(self.l1(x)))\n",
    "        return h\n",
    "\n",
    "    def train(self, x_data, y_data, epoch):\n",
    "        x = chainer.Variable(x_data.reshape(1,2).astype(numpy.float32))\n",
    "        y = chainer.Variable(y_data.astype(numpy.int32))\n",
    "        h = self._forward(x)\n",
    "\n",
    "        self.zerograds()\n",
    "        error = chainer.functions.softmax_cross_entropy(h, y)\n",
    "        accuracy = chainer.functions.accuracy(h, y)\n",
    "        error.backward()\n",
    "        optimizer.update()\n",
    "        if epoch%100==0:\n",
    "            print(' %d & %d = %d (zero:%f one:%f)' % (x.data[0,0], x.data[0,1], h.data.argmax(), h.data[0,0], h.data[0,1]))\n",
    "\n",
    "class RegressionModel(chainer.Chain):\n",
    "    def __init__(self):\n",
    "        super(RegressionModel, self).__init__(\n",
    "            l1 = chainer.links.Linear(2, 2),\n",
    "            l2 = chainer.links.Linear(2, 1)\n",
    "            )\n",
    "\n",
    "    def _forward(self, x):\n",
    "        h = self.l2(chainer.functions.sigmoid(self.l1(x)))\n",
    "        return h\n",
    "\n",
    "    def train(self, x_data, y_data, epoch):\n",
    "        x = chainer.Variable(x_data.reshape(1,2).astype(numpy.float32))\n",
    "        y = chainer.Variable(y_data.reshape(1,1).astype(numpy.float32))\n",
    "        h = self._forward(x)\n",
    "        self.zerograds()\n",
    "        error = chainer.functions.mean_squared_error(h, y)\n",
    "        error.backward()\n",
    "        optimizer.update()\n",
    "        if epoch%100==0:\n",
    "                print('x: {}  h: {})'.format(x.data, h.data))\n",
    "\n",
    "\n",
    "#model = SmallClassificationModel()     # 層が1つの場合\n",
    "model = ClassificationModel()           # 層が2つの場合\n",
    "#model = RegressionModel()              # 重回帰でやった場合\n",
    "\n",
    "optimizer = chainer.optimizers.MomentumSGD(lr=0.01, momentum=0.9)\n",
    "optimizer.setup(model)\n",
    "\n",
    "data_xor = [\n",
    "    [numpy.array([0,0]), numpy.array([0])],\n",
    "    [numpy.array([0,1]), numpy.array([1])],\n",
    "    [numpy.array([1,0]), numpy.array([1])],\n",
    "    [numpy.array([1,1]), numpy.array([0])],\n",
    "]\n",
    "\n",
    "data_and = [\n",
    "    [numpy.array([0,0]), numpy.array([0])],\n",
    "    [numpy.array([0,1]), numpy.array([0])],\n",
    "    [numpy.array([1,0]), numpy.array([0])],\n",
    "    [numpy.array([1,1]), numpy.array([1])],\n",
    "]\n",
    "\n",
    "data_or = [\n",
    "    [numpy.array([0,0]), numpy.array([0])],\n",
    "    [numpy.array([0,1]), numpy.array([1])],\n",
    "    [numpy.array([1,0]), numpy.array([1])],\n",
    "    [numpy.array([1,1]), numpy.array([1])],\n",
    "]\n",
    "\n",
    "for epoch in range(1001):\n",
    "    if epoch%100==0:\n",
    "        print(\"epoch: %d\" %epoch)\n",
    "    for invec, outvec in data_xor:\n",
    "        model.train(invec, outvec, epoch)\n"
   ]
  },
  {
   "cell_type": "code",
   "execution_count": null,
   "metadata": {
    "collapsed": true
   },
   "outputs": [],
   "source": []
  }
 ],
 "metadata": {
  "kernelspec": {
   "display_name": "Python 3",
   "language": "python",
   "name": "python3"
  },
  "language_info": {
   "codemirror_mode": {
    "name": "ipython",
    "version": 3
   },
   "file_extension": ".py",
   "mimetype": "text/x-python",
   "name": "python",
   "nbconvert_exporter": "python",
   "pygments_lexer": "ipython3",
   "version": "3.6.0"
  }
 },
 "nbformat": 4,
 "nbformat_minor": 2
}
